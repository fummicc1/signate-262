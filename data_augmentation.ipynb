{
 "cells": [
  {
   "cell_type": "code",
   "execution_count": 58,
   "metadata": {},
   "outputs": [],
   "source": [
    "import os\n",
    "import torch\n",
    "import torchvision\n",
    "from glob import glob\n",
    "from PIL.Image import open as im_open\n",
    "import subprocess\n",
    "import json\n",
    "import pandas as pd"
   ]
  },
  {
   "cell_type": "code",
   "execution_count": 59,
   "metadata": {},
   "outputs": [],
   "source": [
    "mode=\"train\"\n",
    "data_type=\"mordern\""
   ]
  },
  {
   "cell_type": "code",
   "execution_count": 60,
   "metadata": {},
   "outputs": [],
   "source": [
    "src=os.path.join(\"/workspace\", mode, data_type)\n",
    "label_paths = os.path.join(src, \"labels\")\n",
    "annotation_paths = os.path.join(src, \"annotations\")\n",
    "img_paths = os.path.join(src, \"images\")"
   ]
  },
  {
   "cell_type": "code",
   "execution_count": 61,
   "metadata": {},
   "outputs": [],
   "source": [
    "labels = list(glob(os.path.join(label_paths, \"*.txt\")))\n",
    "annotations = list(glob(os.path.join(annotation_paths, \"*.json\")))\n",
    "imgs = list(glob(os.path.join(img_paths, \"*.jpg\")))"
   ]
  },
  {
   "cell_type": "code",
   "execution_count": 62,
   "metadata": {},
   "outputs": [],
   "source": [
    "for img_path, ann_path, label_path in zip(imgs, annotations, labels):\n",
    "    break\n",
    "    img = im_open(img_path).convert(\"RGB\")\n",
    "    transoforms = torchvision.transforms.Compose([\n",
    "        torchvision.transforms.ToTensor(),\n",
    "        torchvision.transforms.RandomGrayscale(),\n",
    "        torchvision.transforms.GaussianBlur(kernel_size=7),\n",
    "        torchvision.transforms.ColorJitter(brightness=0.5, contrast=0.5, saturation=0.5),\n",
    "        torchvision.transforms.ToPILImage(),        \n",
    "    ])\n",
    "    img = transoforms(img)\n",
    "    img_folder = \"/\".join(img_path.split(\"/\")[:-1])\n",
    "    ann_folder = \"/\".join(ann_path.split(\"/\")[:-1])\n",
    "    label_folder = \"/\".join(label_path.split(\"/\")[:-1])\n",
    "    name = img_path.split(\"/\")[-1].split(\".\")[0]\n",
    "    dest = img_folder + \"/\" + name + \"_2\" + \".jpg\"\n",
    "    with open(dest, \"w\") as f:\n",
    "        img.save(f)\n",
    "    dest = ann_folder + \"/\" + name + \"_2\" + \".json\"\n",
    "    subprocess.run(f\"cp {ann_path} {dest}\", shell=True)\n",
    "    dest = label_folder + \"/\" + name + \"_2\" + \".txt\"\n",
    "    subprocess.run(f\"cp {label_path} {dest}\", shell=True)"
   ]
  },
  {
   "cell_type": "code",
   "execution_count": 63,
   "metadata": {},
   "outputs": [],
   "source": [
    "for img_path, ann_path, label_path in zip(imgs, annotations, labels):    \n",
    "    img_folder = \"/\".join(img_path.split(\"/\")[:-1])\n",
    "    ann_folder = \"/\".join(ann_path.split(\"/\")[:-1])\n",
    "    label_folder = \"/\".join(label_path.split(\"/\")[:-1])\n",
    "    name = img_path.split(\"/\")[-1].split(\".\")[0]\n",
    "    dest = img_folder + \"/\" + name + \"_\" + \".jpg\"\n",
    "    if os.path.exists(dest):\n",
    "        continue\n",
    "    df = pd.read_csv(label_path, sep=\" \", header=None)\n",
    "    df = df[df.loc[:, 0].isin([7, 6] if data_type == \"mordern\" else [5])]\n",
    "    if df.empty:\n",
    "        continue\n",
    "    img = im_open(img_path).convert(\"RGB\")\n",
    "    transoforms = torchvision.transforms.Compose([\n",
    "        torchvision.transforms.ToTensor(),\n",
    "        torchvision.transforms.RandomGrayscale(),\n",
    "        torchvision.transforms.GaussianBlur(kernel_size=7),\n",
    "        torchvision.transforms.ColorJitter(brightness=0.5, contrast=0.5, saturation=0.5),\n",
    "        torchvision.transforms.ToPILImage(),        \n",
    "    ])\n",
    "    img = transoforms(img)    \n",
    "    with open(dest, \"w\") as f:\n",
    "        img.save(f)\n",
    "    dest = ann_folder + \"/\" + name + \"_\" + \".json\"\n",
    "    subprocess.run(f\"cp {ann_path} {dest}\", shell=True)\n",
    "    dest = label_folder + \"/\" + name + \"_\" + \".txt\"\n",
    "    subprocess.run(f\"cp {label_path} {dest}\", shell=True)"
   ]
  }
 ],
 "metadata": {
  "kernelspec": {
   "display_name": "venv",
   "language": "python",
   "name": "python3"
  },
  "language_info": {
   "codemirror_mode": {
    "name": "ipython",
    "version": 3
   },
   "file_extension": ".py",
   "mimetype": "text/x-python",
   "name": "python",
   "nbconvert_exporter": "python",
   "pygments_lexer": "ipython3",
   "version": "3.8.13"
  },
  "orig_nbformat": 4
 },
 "nbformat": 4,
 "nbformat_minor": 2
}
