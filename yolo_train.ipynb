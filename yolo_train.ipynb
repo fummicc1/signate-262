{
 "cells": [
  {
   "cell_type": "code",
   "execution_count": null,
   "metadata": {},
   "outputs": [],
   "source": [
    "!which pip\n",
    "!which python\n",
    "# !pip install numpy torch scikit-learn tqdm\n",
    "# !pip install pandas matplotlib torchvision IPython opencv-python opencv-contrib-python"
   ]
  },
  {
   "cell_type": "code",
   "execution_count": 3,
   "metadata": {},
   "outputs": [],
   "source": [
    "import os\n",
    "import numpy as np\n",
    "import gc\n",
    "import torch.distributed as dist\n",
    "import pandas as pd\n",
    "import torch.multiprocessing as mp\n",
    "from torch.nn.parallel import DistributedDataParallel as DDP\n",
    "import matplotlib.pyplot as plt\n",
    "from typing import List\n",
    "import cv2\n",
    "from sklearn.model_selection import train_test_split, StratifiedKFold\n",
    "from sklearn.metrics import accuracy_score, f1_score\n",
    "import torch\n",
    "import torch.nn as nn\n",
    "import torch.optim as optim\n",
    "from torch.utils.data import Dataset, DataLoader\n",
    "import torchvision\n",
    "from torchvision import transforms\n",
    "import pandas as pd\n",
    "import json\n",
    "from PIL.Image import Image\n",
    "import PIL\n",
    "from tqdm import tqdm\n",
    "from PIL import ImageDraw\n",
    "from ultralytics import YOLO"
   ]
  },
  {
   "attachments": {},
   "cell_type": "markdown",
   "metadata": {},
   "source": [
    "## Config"
   ]
  },
  {
   "cell_type": "code",
   "execution_count": 1,
   "metadata": {},
   "outputs": [],
   "source": [
    "class Config:\n",
    "    batch_size = 1\n",
    "    num_epochs = 5\n",
    "    learning_rate = 1e-3\n",
    "    weight_decay = 1e-5\n",
    "    num_classes = 10\n",
    "    input_size = (800, 800)\n",
    "    \n",
    "    def __init__(self) -> None:\n",
    "        pass\n",
    "    \n",
    "config = Config()"
   ]
  },
  {
   "cell_type": "code",
   "execution_count": 4,
   "metadata": {},
   "outputs": [
    {
     "name": "stderr",
     "output_type": "stream",
     "text": [
      "WARNING ⚠️ Unable to automatically guess model task, assuming 'task=detect'. Explicitly define task for your model, i.e. 'task=detect', 'task=segment' or 'task=classify'.\n",
      "\n",
      "                   from  n    params  module                                       arguments                     \n"
     ]
    },
    {
     "ename": "KeyError",
     "evalue": "'backbone'",
     "output_type": "error",
     "traceback": [
      "\u001b[0;31m---------------------------------------------------------------------------\u001b[0m",
      "\u001b[0;31mKeyError\u001b[0m                                  Traceback (most recent call last)",
      "Cell \u001b[0;32mIn[4], line 2\u001b[0m\n\u001b[1;32m      1\u001b[0m \u001b[39m# Load a model\u001b[39;00m\n\u001b[0;32m----> 2\u001b[0m model \u001b[39m=\u001b[39m YOLO(\u001b[39m\"\u001b[39;49m\u001b[39mbook.yaml\u001b[39;49m\u001b[39m\"\u001b[39;49m)\u001b[39m.\u001b[39mload(\u001b[39m\"\u001b[39m\u001b[39myolov8x.pt\u001b[39m\u001b[39m\"\u001b[39m)  \u001b[39m# load a pretrained model (recommended for training)\u001b[39;00m\n\u001b[1;32m      4\u001b[0m \u001b[39m# Use the model\u001b[39;00m\n\u001b[1;32m      5\u001b[0m model\u001b[39m.\u001b[39mtrain(data\u001b[39m=\u001b[39m\u001b[39m\"\u001b[39m\u001b[39mbook.yaml\u001b[39m\u001b[39m\"\u001b[39m, epochs\u001b[39m=\u001b[39m\u001b[39m3\u001b[39m)  \u001b[39m# train the model\u001b[39;00m\n",
      "File \u001b[0;32m/workspace/signate/venv/lib/python3.8/site-packages/ultralytics/yolo/engine/model.py:96\u001b[0m, in \u001b[0;36mYOLO.__init__\u001b[0;34m(self, model, task, session)\u001b[0m\n\u001b[1;32m     94\u001b[0m     model, suffix \u001b[39m=\u001b[39m Path(model)\u001b[39m.\u001b[39mwith_suffix(\u001b[39m'\u001b[39m\u001b[39m.pt\u001b[39m\u001b[39m'\u001b[39m), \u001b[39m'\u001b[39m\u001b[39m.pt\u001b[39m\u001b[39m'\u001b[39m  \u001b[39m# add suffix, i.e. yolov8n -> yolov8n.pt\u001b[39;00m\n\u001b[1;32m     95\u001b[0m \u001b[39mif\u001b[39;00m suffix \u001b[39m==\u001b[39m \u001b[39m'\u001b[39m\u001b[39m.yaml\u001b[39m\u001b[39m'\u001b[39m:\n\u001b[0;32m---> 96\u001b[0m     \u001b[39mself\u001b[39;49m\u001b[39m.\u001b[39;49m_new(model, task)\n\u001b[1;32m     97\u001b[0m \u001b[39melse\u001b[39;00m:\n\u001b[1;32m     98\u001b[0m     \u001b[39mself\u001b[39m\u001b[39m.\u001b[39m_load(model, task)\n",
      "File \u001b[0;32m/workspace/signate/venv/lib/python3.8/site-packages/ultralytics/yolo/engine/model.py:119\u001b[0m, in \u001b[0;36mYOLO._new\u001b[0;34m(self, cfg, task, verbose)\u001b[0m\n\u001b[1;32m    117\u001b[0m \u001b[39mself\u001b[39m\u001b[39m.\u001b[39mcfg \u001b[39m=\u001b[39m cfg\n\u001b[1;32m    118\u001b[0m \u001b[39mself\u001b[39m\u001b[39m.\u001b[39mtask \u001b[39m=\u001b[39m task \u001b[39mor\u001b[39;00m guess_model_task(cfg_dict)\n\u001b[0;32m--> 119\u001b[0m \u001b[39mself\u001b[39m\u001b[39m.\u001b[39mmodel \u001b[39m=\u001b[39m TASK_MAP[\u001b[39mself\u001b[39;49m\u001b[39m.\u001b[39;49mtask][\u001b[39m0\u001b[39;49m](cfg_dict, verbose\u001b[39m=\u001b[39;49mverbose \u001b[39mand\u001b[39;49;00m RANK \u001b[39m==\u001b[39;49m \u001b[39m-\u001b[39;49m\u001b[39m1\u001b[39;49m)  \u001b[39m# build model\u001b[39;00m\n\u001b[1;32m    120\u001b[0m \u001b[39mself\u001b[39m\u001b[39m.\u001b[39moverrides[\u001b[39m'\u001b[39m\u001b[39mmodel\u001b[39m\u001b[39m'\u001b[39m] \u001b[39m=\u001b[39m \u001b[39mself\u001b[39m\u001b[39m.\u001b[39mcfg\n\u001b[1;32m    122\u001b[0m \u001b[39m# Below added to allow export from yamls\u001b[39;00m\n",
      "File \u001b[0;32m/workspace/signate/venv/lib/python3.8/site-packages/ultralytics/nn/tasks.py:180\u001b[0m, in \u001b[0;36mDetectionModel.__init__\u001b[0;34m(self, cfg, ch, nc, verbose)\u001b[0m\n\u001b[1;32m    178\u001b[0m     LOGGER\u001b[39m.\u001b[39minfo(\u001b[39mf\u001b[39m\u001b[39m\"\u001b[39m\u001b[39mOverriding model.yaml nc=\u001b[39m\u001b[39m{\u001b[39;00m\u001b[39mself\u001b[39m\u001b[39m.\u001b[39myaml[\u001b[39m'\u001b[39m\u001b[39mnc\u001b[39m\u001b[39m'\u001b[39m]\u001b[39m}\u001b[39;00m\u001b[39m with nc=\u001b[39m\u001b[39m{\u001b[39;00mnc\u001b[39m}\u001b[39;00m\u001b[39m\"\u001b[39m)\n\u001b[1;32m    179\u001b[0m     \u001b[39mself\u001b[39m\u001b[39m.\u001b[39myaml[\u001b[39m'\u001b[39m\u001b[39mnc\u001b[39m\u001b[39m'\u001b[39m] \u001b[39m=\u001b[39m nc  \u001b[39m# override yaml value\u001b[39;00m\n\u001b[0;32m--> 180\u001b[0m \u001b[39mself\u001b[39m\u001b[39m.\u001b[39mmodel, \u001b[39mself\u001b[39m\u001b[39m.\u001b[39msave \u001b[39m=\u001b[39m parse_model(deepcopy(\u001b[39mself\u001b[39;49m\u001b[39m.\u001b[39;49myaml), ch\u001b[39m=\u001b[39;49mch, verbose\u001b[39m=\u001b[39;49mverbose)  \u001b[39m# model, savelist\u001b[39;00m\n\u001b[1;32m    181\u001b[0m \u001b[39mself\u001b[39m\u001b[39m.\u001b[39mnames \u001b[39m=\u001b[39m {i: \u001b[39mf\u001b[39m\u001b[39m'\u001b[39m\u001b[39m{\u001b[39;00mi\u001b[39m}\u001b[39;00m\u001b[39m'\u001b[39m \u001b[39mfor\u001b[39;00m i \u001b[39min\u001b[39;00m \u001b[39mrange\u001b[39m(\u001b[39mself\u001b[39m\u001b[39m.\u001b[39myaml[\u001b[39m'\u001b[39m\u001b[39mnc\u001b[39m\u001b[39m'\u001b[39m])}  \u001b[39m# default names dict\u001b[39;00m\n\u001b[1;32m    182\u001b[0m \u001b[39mself\u001b[39m\u001b[39m.\u001b[39minplace \u001b[39m=\u001b[39m \u001b[39mself\u001b[39m\u001b[39m.\u001b[39myaml\u001b[39m.\u001b[39mget(\u001b[39m'\u001b[39m\u001b[39minplace\u001b[39m\u001b[39m'\u001b[39m, \u001b[39mTrue\u001b[39;00m)\n",
      "File \u001b[0;32m/workspace/signate/venv/lib/python3.8/site-packages/ultralytics/nn/tasks.py:445\u001b[0m, in \u001b[0;36mparse_model\u001b[0;34m(d, ch, verbose)\u001b[0m\n\u001b[1;32m    443\u001b[0m ch \u001b[39m=\u001b[39m [ch]\n\u001b[1;32m    444\u001b[0m layers, save, c2 \u001b[39m=\u001b[39m [], [], ch[\u001b[39m-\u001b[39m\u001b[39m1\u001b[39m]  \u001b[39m# layers, savelist, ch out\u001b[39;00m\n\u001b[0;32m--> 445\u001b[0m \u001b[39mfor\u001b[39;00m i, (f, n, m, args) \u001b[39min\u001b[39;00m \u001b[39menumerate\u001b[39m(d[\u001b[39m'\u001b[39;49m\u001b[39mbackbone\u001b[39;49m\u001b[39m'\u001b[39;49m] \u001b[39m+\u001b[39m d[\u001b[39m'\u001b[39m\u001b[39mhead\u001b[39m\u001b[39m'\u001b[39m]):  \u001b[39m# from, number, module, args\u001b[39;00m\n\u001b[1;32m    446\u001b[0m     m \u001b[39m=\u001b[39m \u001b[39mgetattr\u001b[39m(torch\u001b[39m.\u001b[39mnn, m[\u001b[39m3\u001b[39m:]) \u001b[39mif\u001b[39;00m \u001b[39m'\u001b[39m\u001b[39mnn.\u001b[39m\u001b[39m'\u001b[39m \u001b[39min\u001b[39;00m m \u001b[39melse\u001b[39;00m \u001b[39mglobals\u001b[39m()[m]  \u001b[39m# get module\u001b[39;00m\n\u001b[1;32m    447\u001b[0m     \u001b[39mfor\u001b[39;00m j, a \u001b[39min\u001b[39;00m \u001b[39menumerate\u001b[39m(args):\n",
      "\u001b[0;31mKeyError\u001b[0m: 'backbone'"
     ]
    }
   ],
   "source": [
    "# Load a model\n",
    "model = YOLO(\"book.yaml\").load(\"yolov8x.pt\")  # load a pretrained model (recommended for training)\n",
    "\n",
    "# Use the model\n",
    "model.train(data=\"book.yaml\", epochs=3)  # train the model"
   ]
  }
 ],
 "metadata": {
  "kernelspec": {
   "display_name": "venv",
   "language": "python",
   "name": "python3"
  },
  "language_info": {
   "codemirror_mode": {
    "name": "ipython",
    "version": 3
   },
   "file_extension": ".py",
   "mimetype": "text/x-python",
   "name": "python",
   "nbconvert_exporter": "python",
   "pygments_lexer": "ipython3",
   "version": "3.8.13"
  },
  "orig_nbformat": 4
 },
 "nbformat": 4,
 "nbformat_minor": 2
}
