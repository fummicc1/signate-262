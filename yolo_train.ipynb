{
 "cells": [
  {
   "cell_type": "code",
   "execution_count": null,
   "metadata": {},
   "outputs": [],
   "source": [
    "import os\n",
    "import numpy as np\n",
    "import gc\n",
    "import torch.distributed as dist\n",
    "import pandas as pd\n",
    "import torch.multiprocessing as mp\n",
    "from torch.nn.parallel import DistributedDataParallel as DDP\n",
    "import matplotlib.pyplot as plt\n",
    "from typing import List\n",
    "import cv2\n",
    "from sklearn.model_selection import train_test_split, StratifiedKFold\n",
    "from sklearn.metrics import accuracy_score, f1_score\n",
    "import torch\n",
    "import torch.nn as nn\n",
    "import torch.optim as optim\n",
    "from torch.utils.data import Dataset, DataLoader\n",
    "import torchvision\n",
    "from torchvision import transforms\n",
    "import pandas as pd\n",
    "import json\n",
    "from PIL.Image import Image\n",
    "import PIL\n",
    "from tqdm import tqdm\n",
    "from PIL import ImageDraw\n",
    "from ultralytics import YOLO\n",
    "import subprocess\n",
    "from wandb_callback import callbacks "
   ]
  },
  {
   "cell_type": "code",
   "execution_count": null,
   "metadata": {},
   "outputs": [],
   "source": [
    "# os.chdir(\"/workspace\")"
   ]
  },
  {
   "attachments": {},
   "cell_type": "markdown",
   "metadata": {},
   "source": [
    "## Run"
   ]
  },
  {
   "cell_type": "code",
   "execution_count": null,
   "metadata": {},
   "outputs": [],
   "source": [
    "data_path=\"/workspace/modern_book.yaml\"\n",
    "weight_path=\"/workspace/yolov8x.pt\"\n",
    "out_path=\"/workspace/results/train_modern_book\"\n",
    "model = YOLO(weight_path)\n",
    "for event,func in callbacks.items():\n",
    "    model.add_callback(event,func)\n",
    "model.train(\n",
    "    data=data_path,\n",
    "    epochs=30,\n",
    "    imgsz=1600,\n",
    "    lr0=0.01,\n",
    "    project=out_path,\n",
    "    device=\"0,1,2,3\"\n",
    ")\n",
    "# command=f'yolo detect train model={weight_path} data={data_path} epochs=30 imgsz=1600 batch=8 lr0=\"0.01\" project=\"{out_path}\" device=\"0,1,2,3\"'\n",
    "# subprocess.run(command, shell=True)\n"
   ]
  },
  {
   "cell_type": "code",
   "execution_count": null,
   "metadata": {},
   "outputs": [],
   "source": [
    "data_path=\"/workspace/old_book.yaml\"\n",
    "weight_path=\"/workspace/yolov8x.pt\"\n",
    "out_path=\"/workspace/results/train_old_book\"\n",
    "model = YOLO(weight_path)\n",
    "for event,func in callbacks.items():\n",
    "    model.add_callback(event,func)\n",
    "model.train(\n",
    "    data=data_path,\n",
    "    epochs=30,\n",
    "    imgsz=1600,\n",
    "    lr0=0.01,\n",
    "    project=out_path,\n",
    "    device=\"0,1,2,3\"\n",
    ")\n",
    "# command=f'yolo detect train model={weight_path} data={data_path} epochs=30 imgsz=1600 batch=8 lr0=\"0.01\" project=\"{out_path}\" device=\"0,1,2,3\"'\n",
    "# subprocess.run(command, shell=True)"
   ]
  }
 ],
 "metadata": {
  "kernelspec": {
   "display_name": "venv",
   "language": "python",
   "name": "python3"
  },
  "language_info": {
   "codemirror_mode": {
    "name": "ipython",
    "version": 3
   },
   "file_extension": ".py",
   "mimetype": "text/x-python",
   "name": "python",
   "nbconvert_exporter": "python",
   "pygments_lexer": "ipython3",
   "version": "3.8.13"
  },
  "orig_nbformat": 4,
  "vscode": {
   "interpreter": {
    "hash": "127f48999705037a8d690b31c83410c1935cffa4de0b8a9bcf51cea5b665d6de"
   }
  }
 },
 "nbformat": 4,
 "nbformat_minor": 2
}
