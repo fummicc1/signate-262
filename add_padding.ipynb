{
 "cells": [
  {
   "cell_type": "code",
   "execution_count": 5,
   "metadata": {},
   "outputs": [],
   "source": [
    "import torchvision.transforms.functional as F\n",
    "import numpy as np\n",
    "\n",
    "def get_padding(image):    \n",
    "    w, h = image.size\n",
    "    max_wh = np.max([w, h])\n",
    "    h_padding = (max_wh - w) / 2\n",
    "    v_padding = (max_wh - h) / 2    \n",
    "    r_pad = h_padding if h_padding % 1 == 0 else h_padding-0.5\n",
    "    b_pad = v_padding if v_padding % 1 == 0 else v_padding-0.5\n",
    "    r_pad *= 2\n",
    "    b_pad *= 2\n",
    "    padding = (0, 0, int(r_pad), int(b_pad))\n",
    "    return padding\n",
    "\n",
    "class NewPad(object):\n",
    "    def __init__(self, fill=0, padding_mode='constant'):\n",
    "        assert padding_mode in ['constant', 'edge', 'reflect', 'symmetric']\n",
    "\n",
    "        self.fill = fill\n",
    "        self.padding_mode = padding_mode\n",
    "        \n",
    "    def __call__(self, img):\n",
    "        \"\"\"\n",
    "        Args:\n",
    "            img (PIL Image): Image to be padded.\n",
    "\n",
    "        Returns:\n",
    "            PIL Image: Padded image.\n",
    "        \"\"\"\n",
    "        return F.pad(img, get_padding(img), self.fill, self.padding_mode)\n",
    "    \n",
    "    def __repr__(self):\n",
    "        return self.__class__.__name__ + '(padding={0}, fill={1}, padding_mode={2})'.\\\n",
    "            format(self.fill, self.padding_mode)"
   ]
  },
  {
   "cell_type": "code",
   "execution_count": 6,
   "metadata": {},
   "outputs": [],
   "source": [
    "from glob import glob\n",
    "from PIL.Image import open as im_open\n",
    "from torchvision.transforms import *\n",
    "import pathlib\n",
    "\n",
    "for mode in [\"train\"]:\n",
    "    p = pathlib.Path(\"/workspace/\" + mode)\n",
    "    images = p / \"images\"\n",
    "    imgs = list(images.glob(\"*.jpg\"))\n",
    "    for img_path in imgs:\n",
    "        img = im_open(img_path).convert(\"RGB\")\n",
    "        img = Compose([\n",
    "            NewPad() \n",
    "        ])(img)\n",
    "        with img_path.open() as f:\n",
    "            img.save(f.name)"
   ]
  }
 ],
 "metadata": {
  "kernelspec": {
   "display_name": "venv",
   "language": "python",
   "name": "python3"
  },
  "language_info": {
   "codemirror_mode": {
    "name": "ipython",
    "version": 3
   },
   "file_extension": ".py",
   "mimetype": "text/x-python",
   "name": "python",
   "nbconvert_exporter": "python",
   "pygments_lexer": "ipython3",
   "version": "3.8.13"
  },
  "orig_nbformat": 4
 },
 "nbformat": 4,
 "nbformat_minor": 2
}
