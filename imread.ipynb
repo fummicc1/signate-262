{
 "cells": [
  {
   "cell_type": "code",
   "execution_count": 2,
   "metadata": {},
   "outputs": [],
   "source": [
    "import pathlib\n",
    "import cv2\n",
    "import numpy as np"
   ]
  },
  {
   "cell_type": "code",
   "execution_count": 3,
   "metadata": {},
   "outputs": [
    {
     "name": "stdout",
     "output_type": "stream",
     "text": [
      "shape (3, 1200)\n",
      "(array([30], dtype=uint8), array([3600]))\n"
     ]
    },
    {
     "data": {
      "text/plain": [
       "(array([25], dtype=uint8), array([3600]))"
      ]
     },
     "execution_count": 3,
     "metadata": {},
     "output_type": "execute_result"
    }
   ],
   "source": [
    "path = pathlib.Path(\"/home/fummicc1/codes/signate/val/old/masks/000001.jpg\")\n",
    "img = cv2.imread(path.as_posix(), flags=0)\n",
    "print(\"shape\", img.shape)\n",
    "print(np.unique(img, return_counts=True))\n",
    "img //= 25\n",
    "img *= 25\n",
    "np.unique(img, return_counts=True)"
   ]
  }
 ],
 "metadata": {
  "kernelspec": {
   "display_name": "venv",
   "language": "python",
   "name": "python3"
  },
  "language_info": {
   "codemirror_mode": {
    "name": "ipython",
    "version": 3
   },
   "file_extension": ".py",
   "mimetype": "text/x-python",
   "name": "python",
   "nbconvert_exporter": "python",
   "pygments_lexer": "ipython3",
   "version": "3.10.9"
  },
  "orig_nbformat": 4
 },
 "nbformat": 4,
 "nbformat_minor": 2
}
