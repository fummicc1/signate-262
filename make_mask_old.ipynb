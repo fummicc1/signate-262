{
 "cells": [
  {
   "cell_type": "code",
   "execution_count": 1,
   "metadata": {},
   "outputs": [],
   "source": [
    "import pathlib\n",
    "from PIL.Image import open as im_open, Image\n",
    "import json\n",
    "import PIL.Image\n",
    "import numpy as np\n",
    "import cv2\n",
    "import matplotlib.pyplot as plt"
   ]
  },
  {
   "cell_type": "code",
   "execution_count": 2,
   "metadata": {},
   "outputs": [],
   "source": [
    "mode = \"train\"\n",
    "data_mode = \"old\"\n",
    "image_dir = pathlib.Path(mode) / data_mode / \"images\"\n",
    "ann_dir = pathlib.Path(mode) / data_mode / \"annotations\"\n",
    "mask_dir = pathlib.Path(mode) / data_mode / \"masks\"\n",
    "mask_dir.mkdir(exist_ok=True)"
   ]
  },
  {
   "cell_type": "code",
   "execution_count": 3,
   "metadata": {},
   "outputs": [],
   "source": [
    "palette = []\n",
    "\n",
    "for i in range(0, 64):\n",
    "    palette.append(i) # R\n",
    "    palette.append(i) # G\n",
    "    palette.append(i) # B\n",
    "\n",
    "for i in range(64, 128):\n",
    "    palette.append(0) # R\n",
    "    palette.append(0) # G\n",
    "    palette.append(255) # B\n",
    "\n",
    "for i in range(128, 192):\n",
    "    palette.append(0) # R\n",
    "    palette.append(255) # G\n",
    "    palette.append(0) # B\n",
    "\n",
    "for i in range(192, 256):\n",
    "    palette.append(255) # R\n",
    "    palette.append(0) # G\n",
    "    palette.append(0) # B"
   ]
  },
  {
   "cell_type": "code",
   "execution_count": 4,
   "metadata": {},
   "outputs": [],
   "source": [
    "imgdirs = sorted(image_dir.iterdir())\n",
    "anndirs = sorted(ann_dir.iterdir())\n",
    "cnt = 0\n",
    "for image_path, ann_path in zip(imgdirs, anndirs):\n",
    "    # 画像サイズの取得\n",
    "    img = im_open(image_path.as_posix()).convert(\"RGB\")\n",
    "    width, height = img.size\n",
    "    # アノテーションのパース\n",
    "    with ann_path.absolute().open() as f:\n",
    "        ann = json.load(f)\n",
    "        labels = ann[\"labels\"]\n",
    "        masks = np.array([[[0 for i in range(3)] for j in range(width)] for i in range(height)])\n",
    "        for label in labels:\n",
    "            category: str = label[\"category\"]\n",
    "            if data_mode == \"modern\":    \n",
    "                if category == \"1_overall\" or category == \"9_table\":\n",
    "                    continue\n",
    "            elif data_mode == \"old\":\n",
    "                if category == \"1_overall\":\n",
    "                    continue\n",
    "            boxes = [label[\"box2d\"][key] for key in label[\"box2d\"].keys()]            \n",
    "            x_min, y_min, x_max, y_max = boxes\n",
    "            # TODO: Speed up\n",
    "            for x in range(x_min, min(width, x_max)):\n",
    "                for y in range(y_min, min(height, y_max)):\n",
    "                    if np.any(masks[y][x] != 0):\n",
    "                        continue\n",
    "                    pixel = (int(category[0]) - 1) * 25\n",
    "                    assert pixel in [25, 50, 75, 100]\n",
    "                    masks[y][x] = pixel\n",
    "\n",
    "        mask_img = np.array(masks).astype(np.uint8)\n",
    "        # print(np.unique(mask_img, return_counts=True))\n",
    "        # mask_img = np.stack([mask_img, mask_img, mask_img], axis=0)\n",
    "        # mask_img = mask_img.transpose(1, 2, 0).astype(np.uint8)\n",
    "        mask_path = mask_dir / image_path.name\n",
    "        cv2.imwrite(mask_path.as_posix(), mask_img)\n",
    "        cnt += 1\n",
    "        if cnt <= 14:\n",
    "            fig, ax = plt.subplots(1, 2)\n",
    "            ax[0].imshow(mask_img)\n",
    "            ax[1].imshow(img)\n",
    "            ax[0].set_title(image_path.name)\n",
    "            ax[1].set_title(image_path.name)     \n",
    "            fig.show()\n",
    "        else:\n",
    "            continue\n",
    "plt.show()    "
   ]
  }
 ],
 "metadata": {
  "kernelspec": {
   "display_name": "venv",
   "language": "python",
   "name": "python3"
  },
  "language_info": {
   "codemirror_mode": {
    "name": "ipython",
    "version": 3
   },
   "file_extension": ".py",
   "mimetype": "text/x-python",
   "name": "python",
   "nbconvert_exporter": "python",
   "pygments_lexer": "ipython3",
   "version": "3.10.9"
  },
  "orig_nbformat": 4,
  "vscode": {
   "interpreter": {
    "hash": "9782a44ac1ff9f96d5d1fd6e040b3af80f2746841d3d4e74c6b99ccacbba05f8"
   }
  }
 },
 "nbformat": 4,
 "nbformat_minor": 2
}
