{
    "cells": [
        {
            "cell_type": "code",
            "execution_count": null,
            "metadata": {},
            "outputs": [],
            "source": [
                "from PIL.Image import Image, open as im_open\n",
                "import os\n",
                "import torch\n",
                "import numpy as np\n",
                "import torch.nn as nn\n",
                "from glob import glob\n",
                "import matplotlib.pyplot as plt\n",
                "import json\n",
                "import subprocess"
            ]
        },
        {
            "cell_type": "code",
            "execution_count": null,
            "metadata": {},
            "outputs": [],
            "source": [
                "os.chdir(\"/home/fummicc1/codes/signate/\")"
            ]
        },
        {
            "cell_type": "code",
            "execution_count": null,
            "metadata": {},
            "outputs": [],
            "source": [
                "img_paths = list(glob(os.path.join(\"test_images\", \"*.jpg\")))\n",
                "annotations = list(glob(os.path.join(\"test_annotations\", \"*.json\")))\n",
                "\n",
                "img_paths.sort()\n",
                "annotations.sort()\n",
                "\n",
                "for annotation_path, img_path in zip(annotations, img_paths):\n",
                "    print(\"annotation_path\", annotation_path)\n",
                "    print(\"img_path\", img_path)\n",
                "    with open(annotation_path, \"r\") as f:\n",
                "        data = json.load(f)\n",
                "        print('data[\"attributes\"][\"年代\"]', data[\"attributes\"][\"年代\"])\n",
                "        if data[\"attributes\"][\"年代\"] == \"近代\":\n",
                "            img_dest = os.path.join(\"test\", \"modern\", \"images\")\n",
                "        else:\n",
                "            img_dest = os.path.join(\"test\", \"old\", \"images\")\n",
                "        os.makedirs(img_dest, exist_ok=True)\n",
                "        subprocess.run(f\"cp {img_path} {img_dest}/\", shell=True)"
            ]
        }
    ],
    "metadata": {
        "kernelspec": {
            "display_name": "venv",
            "language": "python",
            "name": "python3"
        },
        "language_info": {
            "codemirror_mode": {
                "name": "ipython",
                "version": 3
            },
            "file_extension": ".py",
            "mimetype": "text/x-python",
            "name": "python",
            "nbconvert_exporter": "python",
            "pygments_lexer": "ipython3",
            "version": "3.8.13"
        },
        "orig_nbformat": 4
    },
    "nbformat": 4,
    "nbformat_minor": 2
}
