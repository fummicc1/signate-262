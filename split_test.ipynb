{
 "cells": [
  {
   "cell_type": "code",
   "execution_count": 9,
   "metadata": {},
   "outputs": [],
   "source": [
    "from PIL.Image import Image, open as im_open\n",
    "import os\n",
    "import torch\n",
    "import numpy as np\n",
    "import torch.nn as nn\n",
    "from glob import glob\n",
    "import matplotlib.pyplot as plt\n",
    "import json\n",
    "import subprocess"
   ]
  },
  {
   "cell_type": "code",
   "execution_count": 10,
   "metadata": {},
   "outputs": [],
   "source": [
    "os.chdir(\"/workspace/\")"
   ]
  },
  {
   "cell_type": "code",
   "execution_count": 11,
   "metadata": {},
   "outputs": [],
   "source": [
    "img_paths = list(glob(os.path.join(\"test_images\", \"*.jpg\")))\n",
    "annotations = list(glob(os.path.join(\"test_annotations\", \"*.json\")))\n",
    "\n",
    "for annotation_path, img_path in zip(annotations, img_paths):\n",
    "    with open(annotation_path, \"r\") as f:\n",
    "        data = json.load(f)\n",
    "        if data[\"attributes\"][\"年代\"] == \"近代\":\n",
    "            img_dest = os.path.join(\"test\", \"modern\", \"images\")\n",
    "        else:\n",
    "            img_dest = os.path.join(\"test\", \"old\", \"images\")\n",
    "        os.makedirs(img_dest, exist_ok=True)\n",
    "        subprocess.run(f\"cp {img_path} {img_dest}/\", shell=True)"
   ]
  }
 ],
 "metadata": {
  "kernelspec": {
   "display_name": "venv",
   "language": "python",
   "name": "python3"
  },
  "language_info": {
   "codemirror_mode": {
    "name": "ipython",
    "version": 3
   },
   "file_extension": ".py",
   "mimetype": "text/x-python",
   "name": "python",
   "nbconvert_exporter": "python",
   "pygments_lexer": "ipython3",
   "version": "3.8.13"
  },
  "orig_nbformat": 4
 },
 "nbformat": 4,
 "nbformat_minor": 2
}
