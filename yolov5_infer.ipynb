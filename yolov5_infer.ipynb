{
    "cells": [
        {
            "cell_type": "code",
            "execution_count": null,
            "metadata": {},
            "outputs": [],
            "source": [
                "!which pip\n",
                "!which python\n",
                "# !pip install numpy torch scikit-learn tqdm\n",
                "# !pip install pandas ultralytics matplotlib torchvision IPython opencv-python opencv-contrib-python"
            ]
        },
        {
            "cell_type": "code",
            "execution_count": null,
            "metadata": {},
            "outputs": [],
            "source": [
                "import os\n",
                "import numpy as np\n",
                "import gc\n",
                "import torch.distributed as dist\n",
                "import pandas as pd\n",
                "import torch.multiprocessing as mp\n",
                "from torch.nn.parallel import DistributedDataParallel as DDP\n",
                "import matplotlib.pyplot as plt\n",
                "from typing import List\n",
                "import cv2\n",
                "from sklearn.model_selection import train_test_split, StratifiedKFold\n",
                "from sklearn.metrics import accuracy_score, f1_score\n",
                "import torch\n",
                "import torch.nn as nn\n",
                "import torch.optim as optim\n",
                "from torch.utils.data import Dataset, DataLoader\n",
                "import torchvision\n",
                "from torchvision import transforms\n",
                "import pandas as pd\n",
                "import json\n",
                "from PIL.Image import Image\n",
                "import PIL\n",
                "from tqdm import tqdm\n",
                "from PIL import ImageDraw\n",
                "from ultralytics import YOLO\n",
                "import subprocess"
            ]
        },
        {
            "cell_type": "code",
            "execution_count": null,
            "metadata": {},
            "outputs": [],
            "source": [
                "os.chdir(\"/workspace\")"
            ]
        },
        {
            "attachments": {},
            "cell_type": "markdown",
            "metadata": {},
            "source": [
                "## Infer modern"
            ]
        },
        {
            "cell_type": "code",
            "execution_count": null,
            "metadata": {},
            "outputs": [],
            "source": [
                "weights='/home/fummicc1/codes/signate/yolov5_modern_weights.pt'\n",
                "source=\"/home/fummicc1/codes/signate/test/modern/images\"\n",
                "command=f\"cd yolov5 && python detect.py --imgsz 1200 --conf-thres 0.25 --weights {weights} --source {source} --save-txt --save-conf\"\n",
                "subprocess.run(command, shell=True)\n",
                "# model(\"./test/modern/images\",save=True, conf=0.25, imgsz=1200, iou=0.5, save_txt=True, save_conf=True)"
            ]
        },
        {
            "attachments": {},
            "cell_type": "markdown",
            "metadata": {},
            "source": [
                "## Infer old"
            ]
        },
        {
            "cell_type": "code",
            "execution_count": null,
            "metadata": {},
            "outputs": [],
            "source": [
                "weights='/home/fummicc1/codes/signate/yolov5_old_weights.pt'\n",
                "source=\"/home/fummicc1/codes/signate/test/old/images\"\n",
                "command=f\"cd yolov5 && python detect.py --imgsz 1200 --conf-thres 0.4 --weights {weights} --source {source} --save-txt --save-conf\"\n",
                "subprocess.run(command, shell=True)\n",
                "# model(\"./test/modern/images\",save=True, conf=0.25, imgsz=1200, iou=0.5, save_txt=True, save_conf=True)"
            ]
        }
    ],
    "metadata": {
        "kernelspec": {
            "display_name": "venv",
            "language": "python",
            "name": "python3"
        },
        "language_info": {
            "codemirror_mode": {
                "name": "ipython",
                "version": 3
            },
            "file_extension": ".py",
            "mimetype": "text/x-python",
            "name": "python",
            "nbconvert_exporter": "python",
            "pygments_lexer": "ipython3",
            "version": "3.8.13"
        },
        "orig_nbformat": 4,
        "vscode": {
            "interpreter": {
                "hash": "127f48999705037a8d690b31c83410c1935cffa4de0b8a9bcf51cea5b665d6de"
            }
        }
    },
    "nbformat": 4,
    "nbformat_minor": 2
}
